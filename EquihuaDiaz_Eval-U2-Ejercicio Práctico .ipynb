{
 "cells": [
  {
   "attachments": {},
   "cell_type": "markdown",
   "metadata": {},
   "source": [
    "**Diana Laura Equihua Díaz 19020088**  \n",
    "**Salma Almazan Barajas 19020078**  \n",
    "*INTELIGENGIA ARTIFICIAL*  \n",
    "*UNIDAD 2:_ EJERCICIO PRÁCTICO*\n",
    "\n"
   ]
  },
  {
   "attachments": {},
   "cell_type": "markdown",
   "metadata": {},
   "source": [
    "- Como primer paso, se realizará la importación de las librearias correspondinetes para que funcione correctamente."
   ]
  },
  {
   "attachments": {},
   "cell_type": "markdown",
   "metadata": {},
   "source": [
    "### Conjunto de datos"
   ]
  },
  {
   "cell_type": "code",
   "execution_count": 9,
   "metadata": {},
   "outputs": [],
   "source": [
    "import matplotlib.pyplot as plt\n",
    "import pandas as pd\n",
    "import numpy as np\n",
    "from sklearn import preprocessing \n",
    "from sklearn.model_selection import train_test_split\n",
    "from sklearn.metrics import accuracy_score, classification_report, confusion_matrix\n"
   ]
  },
  {
   "attachments": {},
   "cell_type": "markdown",
   "metadata": {},
   "source": [
    "- Como siguiente paso, se debe cargar de los datos dentro de la libreta y se asignan a una variable llamada data y se le proporcciona un nombre a cada columna. "
   ]
  },
  {
   "cell_type": "code",
   "execution_count": null,
   "metadata": {},
   "outputs": [],
   "source": [
    "mipath = \"australian.dat\"\n",
    "data = pd.read_csv(mipath,sep=\" \",header=None)\n",
    "data.columns = [\"A1\",\"A2\",\"A3\",\"A4\",\"A5\",\"A6\",\"A7\",\"A8\",\"A9\",\"A10\",\"A11\",\"A12\",\"A13\",\"A14\",\"class\"]\n",
    "data.head(5)"
   ]
  },
  {
   "attachments": {},
   "cell_type": "markdown",
   "metadata": {},
   "source": [
    "- Usamos la funcion info para ver la información de los datos que tiene el conjunto de datos que se importo."
   ]
  },
  {
   "cell_type": "code",
   "execution_count": null,
   "metadata": {},
   "outputs": [],
   "source": [
    "data.info()"
   ]
  },
  {
   "attachments": {},
   "cell_type": "markdown",
   "metadata": {},
   "source": [
    "- Ahora una vez cargado los datos se realiza la separacion de los datos con la tarjet. "
   ]
  },
  {
   "cell_type": "code",
   "execution_count": 7,
   "metadata": {},
   "outputs": [],
   "source": [
    "X = data.iloc[:,:-1]#Todas las calumnas menos la class\n",
    "y = data[[\"class\"]] #Se selecciona la columna class "
   ]
  },
  {
   "attachments": {},
   "cell_type": "markdown",
   "metadata": {},
   "source": [
    "- Se realiza la separaion de los datos para el entrenamiento y la prueba. "
   ]
  },
  {
   "cell_type": "code",
   "execution_count": 8,
   "metadata": {},
   "outputs": [],
   "source": [
    "X_train, X_test, y_train, y_test= train_test_split(X,y,train_size=0.6,random_state=45)"
   ]
  },
  {
   "attachments": {},
   "cell_type": "markdown",
   "metadata": {},
   "source": [
    "### Random forest (bosque aleatorio)"
   ]
  },
  {
   "attachments": {},
   "cell_type": "markdown",
   "metadata": {},
   "source": [
    "- Para poder utilizar el modelo de bosque aleatorio, se tiene que importar su libreria. "
   ]
  },
  {
   "cell_type": "code",
   "execution_count": 10,
   "metadata": {},
   "outputs": [],
   "source": [
    "from sklearn.ensemble import RandomForestClassifier"
   ]
  },
  {
   "attachments": {},
   "cell_type": "markdown",
   "metadata": {},
   "source": [
    "- Despues se crea el modelo base y se corre dentro de un ciclo for.\n"
   ]
  },
  {
   "cell_type": "code",
   "execution_count": null,
   "metadata": {},
   "outputs": [],
   "source": [
    "n_for = 10\n",
    "accAD = list() #Se define la variable que quedará los resultados obtenidos en cada ciclo \n",
    "\n",
    "for k in range(n_for):\n",
    "    modelo_AD =  RandomForestClassifier()\n",
    "    modelo_AD.fit(X_train,y_train)\n",
    "    tmp = modelo_AD.score(X_test, y_test)\n",
    "    accAD.append(tmp)\n",
    "    \n",
    "print('El Arbol de desición con parámetros por default')\n",
    "print('Promedio y desviación estándar:  %.1f (%.1f)' % (100*np.mean(accAD),100*np.std(accAD)))\n",
    "\n",
    "pd.DataFrame(accAD).boxplot()\n",
    "plt.show()"
   ]
  },
  {
   "attachments": {},
   "cell_type": "markdown",
   "metadata": {},
   "source": [
    "-Ahora se realizará un ciclo for para el modelo con hiperparametros.\n"
   ]
  },
  {
   "cell_type": "code",
   "execution_count": null,
   "metadata": {},
   "outputs": [],
   "source": [
    "n_for = 10\n",
    "accAD2 = list() #Se define la variable que quedará los resultados obtenidos en cada ciclo \n",
    "\n",
    "for k in range(n_for):\n",
    "    modelo_AD =  RandomForestClassifier(n_estimators=100, # número de árboles aleatorios a generar para el bosque.\n",
    "                                        criterion=\"gini\", # función que se mide la calidad de cada división en cada nodo.\n",
    "                                        max_depth=None, # profundidad máxima de cada árbol.\n",
    "                                        min_samples_split=2, # mínimo de datos que debe haber en un nodo para continuar dividiéndolo.\n",
    "                                        min_samples_leaf=1, # mínimo de datos que deben quedar en cada hoja después de cada división.\n",
    "                                        max_features=12) # máximo de variables a seleccionar aleatoriamente en cada árbol del bosque.)\n",
    "    modelo_AD.fit(X_train,y_train)\n",
    "    tmp = modelo_AD.score(X_test, y_test)\n",
    "    accAD2.append(tmp)\n",
    "    \n",
    "print('El Arbol de desición con parámetros por default')\n",
    "print('Promedio y desviación estándar:  %.1f (%.1f)' % (100*np.mean(accAD2),100*np.std(accAD2)))\n",
    "\n",
    "pd.DataFrame(accAD2).boxplot()\n",
    "plt.show()"
   ]
  },
  {
   "attachments": {},
   "cell_type": "markdown",
   "metadata": {},
   "source": [
    "-Se grafican los dos modelos en un boxplot."
   ]
  },
  {
   "cell_type": "code",
   "execution_count": 23,
   "metadata": {},
   "outputs": [
    {
     "data": {
      "text/html": [
       "<div>\n",
       "<style scoped>\n",
       "    .dataframe tbody tr th:only-of-type {\n",
       "        vertical-align: middle;\n",
       "    }\n",
       "\n",
       "    .dataframe tbody tr th {\n",
       "        vertical-align: top;\n",
       "    }\n",
       "\n",
       "    .dataframe thead th {\n",
       "        text-align: right;\n",
       "    }\n",
       "</style>\n",
       "<table border=\"1\" class=\"dataframe\">\n",
       "  <thead>\n",
       "    <tr style=\"text-align: right;\">\n",
       "      <th></th>\n",
       "      <th>default</th>\n",
       "      <th>ajustado</th>\n",
       "    </tr>\n",
       "  </thead>\n",
       "  <tbody>\n",
       "    <tr>\n",
       "      <th>0</th>\n",
       "      <td>0.880435</td>\n",
       "      <td>0.905797</td>\n",
       "    </tr>\n",
       "    <tr>\n",
       "      <th>1</th>\n",
       "      <td>0.884058</td>\n",
       "      <td>0.894928</td>\n",
       "    </tr>\n",
       "    <tr>\n",
       "      <th>2</th>\n",
       "      <td>0.887681</td>\n",
       "      <td>0.902174</td>\n",
       "    </tr>\n",
       "    <tr>\n",
       "      <th>3</th>\n",
       "      <td>0.880435</td>\n",
       "      <td>0.894928</td>\n",
       "    </tr>\n",
       "    <tr>\n",
       "      <th>4</th>\n",
       "      <td>0.887681</td>\n",
       "      <td>0.902174</td>\n",
       "    </tr>\n",
       "    <tr>\n",
       "      <th>5</th>\n",
       "      <td>0.880435</td>\n",
       "      <td>0.891304</td>\n",
       "    </tr>\n",
       "    <tr>\n",
       "      <th>6</th>\n",
       "      <td>0.884058</td>\n",
       "      <td>0.898551</td>\n",
       "    </tr>\n",
       "    <tr>\n",
       "      <th>7</th>\n",
       "      <td>0.873188</td>\n",
       "      <td>0.898551</td>\n",
       "    </tr>\n",
       "    <tr>\n",
       "      <th>8</th>\n",
       "      <td>0.880435</td>\n",
       "      <td>0.909420</td>\n",
       "    </tr>\n",
       "    <tr>\n",
       "      <th>9</th>\n",
       "      <td>0.887681</td>\n",
       "      <td>0.891304</td>\n",
       "    </tr>\n",
       "  </tbody>\n",
       "</table>\n",
       "</div>"
      ],
      "text/plain": [
       "    default  ajustado\n",
       "0  0.880435  0.905797\n",
       "1  0.884058  0.894928\n",
       "2  0.887681  0.902174\n",
       "3  0.880435  0.894928\n",
       "4  0.887681  0.902174\n",
       "5  0.880435  0.891304\n",
       "6  0.884058  0.898551\n",
       "7  0.873188  0.898551\n",
       "8  0.880435  0.909420\n",
       "9  0.887681  0.891304"
      ]
     },
     "execution_count": 23,
     "metadata": {},
     "output_type": "execute_result"
    }
   ],
   "source": [
    "ddff= pd.DataFrame(list(zip(accAD,accAD2)),columns=[\"default\",\"ajustado\"])\n",
    "ddff"
   ]
  },
  {
   "cell_type": "code",
   "execution_count": 15,
   "metadata": {},
   "outputs": [
    {
     "data": {
      "image/png": "[encoded data removed]",
      "text/plain": [
       "<Figure size 640x480 with 1 Axes>"
      ]
     },
     "metadata": {},
     "output_type": "display_data"
    }
   ],
   "source": [
    "ddff.plot(kind='box')\n",
    "plt.title('Arbol de desicion: exactitud (accuracy)')\n",
    "plt.show()"
   ]
  },
  {
   "attachments": {},
   "cell_type": "markdown",
   "metadata": {},
   "source": [
    "**¿Qué modelo arroja mejores scores?**\n",
    "El modelo que agorro los mejores datos son el modelo que tiene hiperparametros, ya que este muestra el scrore arriba del 0.890 mientras que el modelo base arroja solo el arroja el score de 0.890 hacia abajo \n"
   ]
  },
  {
   "attachments": {},
   "cell_type": "markdown",
   "metadata": {},
   "source": [
    "### Linear Support Vector Classifier (LinearSVC)\n"
   ]
  },
  {
   "attachments": {},
   "cell_type": "markdown",
   "metadata": {},
   "source": [
    "- Se importa la libreria que necesita el modelo para funcionar "
   ]
  },
  {
   "cell_type": "code",
   "execution_count": 19,
   "metadata": {},
   "outputs": [],
   "source": [
    "from sklearn.svm import LinearSVC"
   ]
  },
  {
   "attachments": {},
   "cell_type": "markdown",
   "metadata": {},
   "source": [
    "- Una vez realizad esto, se crea el modelo base y se corre dentro de un ciclo for."
   ]
  },
  {
   "cell_type": "code",
   "execution_count": null,
   "metadata": {},
   "outputs": [],
   "source": [
    "n_for = 10\n",
    "accAD3 = list() #Se define la variable que quedará los resultados obtenidos en cada ciclo \n",
    "\n",
    "for k in range(n_for):\n",
    "    modelo_AD =  LinearSVC()\n",
    "    modelo_AD.fit(X_train,y_train)\n",
    "    tmp = modelo_AD.score(X_test, y_test)\n",
    "    accAD3.append(tmp)\n",
    "    \n",
    "print('El Arbol de desición con parámetros por default')\n",
    "print('Promedio y desviación estándar:  %.1f (%.1f)' % (100*np.mean(accAD3),100*np.std(accAD3)))\n",
    "\n",
    "pd.DataFrame(accAD3).boxplot()\n",
    "plt.show()"
   ]
  },
  {
   "attachments": {},
   "cell_type": "markdown",
   "metadata": {},
   "source": [
    "- Ahora se realizará un ciclo for para el mismo modelo pero ahora con hiperparametros."
   ]
  },
  {
   "cell_type": "code",
   "execution_count": null,
   "metadata": {},
   "outputs": [],
   "source": [
    "n_for = 10\n",
    "accAD4 = list() #Se define la variable que quedará los resultados obtenidos en cada ciclo \n",
    "\n",
    "for k in range(n_for):\n",
    "    modelo_AD =  LinearSVC(C= 0.1,\n",
    "                            penalty = \"l1\",\n",
    "                            dual=False)\n",
    "    modelo_AD.fit(X_train,y_train)\n",
    "    tmp = modelo_AD.score(X_test, y_test)\n",
    "    accAD4.append(tmp)\n",
    "    \n",
    "print('El Arbol de desición con parámetros por default')\n",
    "print('Promedio y desviación estándar:  %.1f (%.1f)' % (100*np.mean(accAD4),100*np.std(accAD4)))\n",
    "\n",
    "pd.DataFrame(accAD4).boxplot()\n",
    "plt.show()"
   ]
  },
  {
   "cell_type": "markdown",
   "metadata": {},
   "source": [
    "-Se grafican los dos modelos en un boxplot."
   ]
  },
  {
   "cell_type": "code",
   "execution_count": null,
   "metadata": {},
   "outputs": [],
   "source": [
    "ddff2= pd.DataFrame(list(zip(accAD3,accAD4)),columns=[\"default\",\"ajustado\"])\n",
    "ddff2"
   ]
  },
  {
   "cell_type": "code",
   "execution_count": 26,
   "metadata": {},
   "outputs": [
    {
     "data": {
      "image/png": "[encoded data removed]",
      "text/plain": [
       "<Figure size 640x480 with 1 Axes>"
      ]
     },
     "metadata": {},
     "output_type": "display_data"
    }
   ],
   "source": [
    "ddff2.plot(kind='box')\n",
    "plt.title('Arbol de desicion: exactitud (accuracy)')\n",
    "plt.show()"
   ]
  },
  {
   "attachments": {},
   "cell_type": "markdown",
   "metadata": {},
   "source": [
    "**¿Qué modelo arroja mejores scores?**  \n",
    "Como se muestran los resultados el modelo que arroja mejores resultadis en cuanto el score es el modelo que tiene los hiperparametros aunque estan concentrados los datos en el score de 0.90"
   ]
  }
 ],
 "metadata": {
  "kernelspec": {
   "display_name": "Python 3",
   "language": "python",
   "name": "python3"
  },
  "language_info": {
   "codemirror_mode": {
    "name": "ipython",
    "version": 3
   },
   "file_extension": ".py",
   "mimetype": "text/x-python",
   "name": "python",
   "nbconvert_exporter": "python",
   "pygments_lexer": "ipython3",
   "version": "3.11.2"
  },
  "orig_nbformat": 4
 },
 "nbformat": 4,
 "nbformat_minor": 2
}
